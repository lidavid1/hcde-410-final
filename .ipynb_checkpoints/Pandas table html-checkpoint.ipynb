{
 "cells": [
  {
   "cell_type": "code",
   "execution_count": null,
   "id": "c9376940-5201-475b-a430-baee648571c4",
   "metadata": {},
   "outputs": [],
   "source": [
    "import pandas as pd\n",
    "df1 = pd.read_csv(\"/content/debt-relief-covid.csv\")\n",
    "df2 = pd.read_csv(\"/content/covid-vaccination-policy.csv\")\n",
    "df3 = pd.read_csv(\"/content/face-covering-policies-covid.csv\")\n",
    "df4 = pd.read_csv(\"/content/public-events-covid.csv\")\n",
    "df1_ent = df1[['Entity','Code']].drop_duplicates()\n",
    "df2_ent = df2[['Entity','Code']].drop_duplicates()\n",
    "df3_ent = df3[['Entity','Code']].drop_duplicates()\n",
    "df4_ent = df4[['Entity','Code']].drop_duplicates()\n",
    "countries = pd.concat([df1_ent,df2_ent,df3_ent,df4_ent], ignore_index=True).drop_duplicates().sort_values(by=['Entity'])\n",
    "df1_days = df1['Day'].drop_duplicates()\n",
    "df2_days = df2['Day'].drop_duplicates()\n",
    "df3_days = df3['Day'].drop_duplicates()\n",
    "df4_days = df4['Day'].drop_duplicates()\n",
    "days = pd.DataFrame(pd.concat([df1_days,df2_days,df3_days,df4_days], ignore_index=True).drop_duplicates()).sort_values(by=['Day'])\n",
    "intermediate_df = days.merge(countries, how='cross')\n",
    "final_debt_relief = pd.merge(intermediate_df,df1,on=['Entity','Code','Day'],how='left')\n",
    "final_vaccination = pd.merge(final_debt_relief,df2,on=['Entity','Code','Day'],how='left')\n",
    "final_face_covering_policies = pd.merge(final_vaccination,df3,on=['Entity','Code','Day'],how='left')\n",
    "final_df = pd.merge(final_face_covering_policies,df4,on=['Entity','Code','Day'],how='left')\n",
    "final_df\n",
    "final_df.to_excel(\"data.xlsx\")\n",
    "final_df.to_csv('data.csv')"
   ]
  },
  {
   "cell_type": "code",
   "execution_count": null,
   "id": "28aff9b2-d13f-4c79-ba7a-860ff51a1ff1",
   "metadata": {},
   "outputs": [],
   "source": []
  },
  {
   "cell_type": "code",
   "execution_count": null,
   "id": "3d2e7b8c-e0af-4b4a-917b-56ee90875986",
   "metadata": {},
   "outputs": [],
   "source": []
  }
 ],
 "metadata": {
  "kernelspec": {
   "display_name": "Python 3 (ipykernel)",
   "language": "python",
   "name": "python3"
  },
  "language_info": {
   "codemirror_mode": {
    "name": "ipython",
    "version": 3
   },
   "file_extension": ".py",
   "mimetype": "text/x-python",
   "name": "python",
   "nbconvert_exporter": "python",
   "pygments_lexer": "ipython3",
   "version": "3.9.7"
  }
 },
 "nbformat": 4,
 "nbformat_minor": 5
}
