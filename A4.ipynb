{
 "cells": [
  {
   "cell_type": "markdown",
   "id": "84ab4ed2-6137-4481-8dc7-130485594f16",
   "metadata": {},
   "source": [
    "# hcde-410-final A4\n",
    "\n",
    "Project Abstract: \n",
    "        For my project I will aim to work with COVID data, attempting to use vaccination rates, cases, deaths, etc. to understand which areas were hit the hardest and why. By looking at what resources were provided (also comparing the resources of what is realistically available in their respective countries) I will aim to gain an understanding of how all of these factors have contributed towards the mission to defeat COVID and use graphs/visulizations to depict the data but also hopefully creating a way to predict how things will turn out given the data and patterns. \n",
    "\n",
    "\n",
    "Motivations: \n",
    "\n",
    "As COVID is truly not over I want to contribute and gain a stronger understanding of COVID and the areas that are currently being overshadowed/lacked by society. I want to acknowledge the possibilities that there are underlaying factors that are contributing to COVID and bring them to light by cross comparing the data and using the information to predict future COVID trends and potentially prevent them.\n",
    "        \n",
    "Data:\n",
    "\n",
    "https://ourworldindata.org/coronavirus provides all COVID related data\n",
    "https://datahub.io/core/gdp Country GDP and API\n",
    "https://www.nytimes.com/interactive/2021/us/washington-covid-cases.html COVID trends for any specific state (currently Washington selected)\n",
    "\n",
    "Unknowns:\n",
    "\n",
    "Narrowing the scope potentially - focusing on one community, ethnic group, location in the world might yield more consistent data\n",
    "Accurate population representation \n",
    "Representing marginalized communities or individuals\n",
    "Everything is generalized \n"
   ]
  },
  {
   "cell_type": "markdown",
   "id": "d12c1936-0f49-4b51-84e6-67658ef51548",
   "metadata": {},
   "source": [
    "# HCDE 410 Final A5\n",
    "\n",
    "1. Research Question: Given the timeline of COVID-19, what is the relationships between how society responded to the pandemic and the success of each program? Did one program have a strong/weaker cause on other programs? Was one program more progressive or suppressive towards the pandmic? The goal is to understand how each event affects each other, were they more or less successful and what their relationships were.\n",
    "\n",
    "2. Background: After some background research I found that each country responded to COVID-19 with the same series of events (canceling public events, debt relief, etc) but each country had varying levels of success. This begs the research question, how are each of these events relating and affecting each other and the pandemic?\n",
    "\n",
    "Datasets:\n",
    "\n",
    "https://ourworldindata.org/policy-responses-covid: Data sorted by country on what policies were rolled out by countries around the world (specifically will use USA data)\n",
    "\n",
    "Specific datasets that I will be using from this website are...\n",
    "1. Face Covering Data: https://ourworldindata.org/covid-face-coverings\n",
    "    Imported Columns:\n",
    "2. Cancellation of Public Events and Gatherings: https://ourworldindata.org/covid-cancel-public-events\n",
    "    Imported Columns:\n",
    "3. Income Support: https://ourworldindata.org/covid-income-support-debt-relief\n",
    "    Imported Columns: \n",
    "4. Vaccination Policy: https://ourworldindata.org/covid-vaccination-policy\n",
    "    Imported Columns:\n",
    "\n",
    "I will be running a statistical analysis and cross comparing these graphs using an overlay method for a set timeline/frame and will be looking for overlapping data which will indicate involvement thus telling us its respective contribution towards COVID-19 adaptiveness. \n",
    "\n",
    "3. Methodology: Steps that will be taken to analyze the data\n",
    "\n",
    "Organizing & getting the data\n",
    "\n",
    "A. Download the four data sets\n",
    "B. Clean up the CSV file to only show unique data entries, no replications or data fill ins due of any circumstance \n",
    "C. Merge all the CSV files so that we can sort / categorize the dataset by time (dict. key), column name (the information) and lastly column data value (value) \n",
    "D. Write the data into a new CSV file\n",
    "\n",
    "Graphic the data: \n",
    "\n",
    "It's hard to determine the best way of visualizing this data at this time since we don't know how the masterlist will look at this point with all the data combined. To combat this uncertainty we will tackle this in two possible ways:\n",
    "\n",
    "1. Graphing the data using Ploty Python Graphing Library \n",
    "    A. X and Y graphs with dot plots using Plotly and Pandas \n",
    "    B. Layout the entire CSV file in table format and write code to comb through the dataset with a counter for each variable, data, etc. and using plotting that information in correlation to the time frame which will show us which variables were the most prominent at a given time. "
   ]
  }
 ],
 "metadata": {
  "kernelspec": {
   "display_name": "Python 3 (ipykernel)",
   "language": "python",
   "name": "python3"
  },
  "language_info": {
   "codemirror_mode": {
    "name": "ipython",
    "version": 3
   },
   "file_extension": ".py",
   "mimetype": "text/x-python",
   "name": "python",
   "nbconvert_exporter": "python",
   "pygments_lexer": "ipython3",
   "version": "3.9.7"
  }
 },
 "nbformat": 4,
 "nbformat_minor": 5
}
