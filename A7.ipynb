{
 "cells": [
  {
   "cell_type": "markdown",
   "id": "263d416d-8247-45bc-ba4a-7e7c2d099765",
   "metadata": {},
   "source": [
    "# Unraveling COVID-19 Event Data Relationships\n",
    "\n",
    "## Introduction: \n",
    "\n",
    "This project is an attempt at unraveling the connections between four major COVID-19/pandemic response events, drawing conclusions and relationships between each event with the goal of unraveling the hidden trends that are shared when these events took place to combat COVID. To draw these connections I use four of the largest initiatives that were applied globally: Debt Relief, Face Covering Policies, Public Event Policies / Cancellations, and Vaccination Rates. Using these four data independent data sets, I merged the four tables into one with the common factor being date and country. By merging these four data sets and using several statistical analysis methods I am able to highlight the clear casualties and relationships that each table has on each other. \n",
    "\n",
    "### Motivation\n",
    "\n",
    "This project stems from my curiosity for the events of the pandemic as this was the first time in my life that I have experienced and lived through a pandemic and the intitives took place. I was curious if the ways society went about combating the pandemic was the best and most efficient way or were there ways that we were sabotaging ourselves.   \n"
   ]
  },
  {
   "cell_type": "markdown",
   "id": "d375d88a-717e-40ef-be37-55c229da5caf",
   "metadata": {},
   "source": [
    "## Background Research: \n",
    "\n",
    "Through my background research I read several articles that had mixed opinions on how society responded during the pandemic, with some saying that society responded properly but not quick enough and other articles stating that we didn't respond properly at all. The overall consensus was that we were not perfect in our response which begs my research question, did we self sabotage ourselves? Is there anything we can do to prepare for the next one by learning from our mistakes? This is the overall goal that my research aims to uncover by showing the hidden relationships each event has on each other.\n",
    "\n",
    "Other not-so-shocking realizations was that society was simply not ready in any capacity of this pandemic which could have affected society's overall response time and will be seen in the data when the graphs are created.  \n",
    "\n",
    "\n",
    "\n",
    "\n"
   ]
  },
  {
   "cell_type": "markdown",
   "id": "f7df8fff-6a78-4d40-903d-1e323f448f79",
   "metadata": {},
   "source": [
    "## Methodologies:\n",
    "\n",
    "Main Tools: Python, Pandas\n",
    "\n",
    "Upon inspection of the four tables, I realized that there were only two common variables that I can work with: data and country which was perfect for the type of comparison I wanted to do. Please refer to the mentioned documents per each step.\n",
    "\n",
    "### Data Scraping\n",
    "\n",
    "-Breaking down Table Merge.ipynb-\n",
    "\n",
    "First, I wanted to clean and sort the dataset by values that were in common with the set, making it easy to work and analyze when working with the master table. I first made sure to drop every duplicate in the dataset, being entity, code, dates, etc. If they were not unique values then they were scrubbed out. After all the duplicates were removed I added all the values to a master table in the order 'Entity','Code','Day' and left join merged them to create the master table. \n",
    "\n",
    "### Data Visualizations\n",
    "\n",
    "-Breaking down Covid_report.html-\n",
    "\n",
    "Upon creating the master table I used Pandas graphing and Pandas Profiling Master to create tables and visualizations. The Pandas Profiling Report is designed to highlight each dataset's statistics such as the amount of data included in each set, how much of the tables were missing, their cardinality, etc.\n",
    "\n",
    "#### Independent Dataset Studies\n",
    "\n",
    "Using this data you can clearly see the overarching message of each dataset indicated by numerical values (0,1,2,3,4,5,etc.) Each value indicates different meanings unique to table such as..\n",
    "\n",
    "Debt_Relief: \n",
    "\n",
    "0 - No debt relief\n",
    "1 - Narrow relief, specific to one kind of contract\n",
    "2 - broad debt/contract relief\n",
    "\n",
    "Facial Coverings: \n",
    "\n",
    "0 - No measures\n",
    "1 - recommend closing (or work from home)\n",
    "2 - require closing (or work from home) for some\n",
    "sectors or categories of workers\n",
    "3 - require closing (or work from home) all but essential workplaces (e.g. grocery stores, doctors)\n",
    "\n",
    "Cancel public events:\n",
    "0- No measures\n",
    "1 - Recommend canceling\n",
    "2 - Require canceling\n",
    "\n",
    "Vaccination policy\n",
    "0 - No availability\n",
    "1 - Availability for ONE of the following: key workers/ clinically vulnerable groups / elderly groups\n",
    "2 - Availability for TWO of the following: key workers/ clinically vulnerable groups / elderly groups\n",
    "3 - Availability for ALL the following: key workers/ clinically vulnerable groups / elderly groups\n",
    "4 - Availability for all three, plus partial additional availability (select broad groups/ages)\n",
    "5 - Universal availability\n",
    "\n",
    "\n",
    "#### Heat Map Relationships\n",
    "\n",
    "The heat map highlights the relationships each table has with one another. The heat map also is capable of drawing multiple types of statistical correlations such as Spearman's, Pearson's etc. which will highlight the different relationships each table has with one another. \n"
   ]
  },
  {
   "cell_type": "markdown",
   "id": "0d0b82e4-e57c-46ed-8411-1b7f8e287ed3",
   "metadata": {},
   "source": [
    "## Findings:\n",
    "\n",
    "By analyzing each table independently and using cross comparisons, we are able to see hidden correlations and relationships that took place that were not seen before. Here are our biggest findings: \n",
    "\n",
    "1. Based on Pearson's correlation, facial coverings were high when public events were canceled and also when vaccination policies were in place. \n",
    "2. Debt_Relief is highly correlated with the Cancel_Public_Events variable which means that as more public events were canceled during COVID, a lot of people got more debt relief which was a really interesting discovery as I never would have imagined money would be reallocated like that.\n",
    "3. Facial Covering has the largest influence on every data table, in ranking order from most influence to least: (most) public event <- vaccination policy <- debt_relief (least), each has a significant correlation.  \n",
    "\n"
   ]
  },
  {
   "cell_type": "markdown",
   "id": "ce158cf4-32ba-45bf-9f06-8ece5e456356",
   "metadata": {},
   "source": [
    "## Discussions and Limitations\n",
    "\n",
    "This research was very difficult to navigate as I was working with global health data, I wanted to have the most amount of representation on a global scale. If I had more time to continue the project, after I was able to merge all the tables and find the dataset I wanted I would like to cross compare the dataset's findings with each country specifically and try to find the successful effort's that some countries implemented that other countries didn't and compare the datasets by a country by country basis. By analyzing the data more closely and specifically I will be able to find deeper relationships and success cases that are unique and vary by country which will allow users to react accordingly in future planning and readiness preparations. \n",
    "\n",
    "Some of the biggest limitations were the missing values that I decided to keep in the dataset and not scrub out. I did not remove missing values because I did not want to misinterpret the data as the missing values could mean anything or nothing. The missing values were included because I decided to include all the single dates in the datasets from every country. After the merger, if the data still exists in the new Excel sheet, the data will be filled but if not then there will be a missing/empty value and the data will not appear and thus skipped over. This is because I am working with four different tables, the data could not appear for reasons unique to an individual table and therefore do not want to cross compare datasets that are unique to one set. You can also interpret that these missing values were not included because some countries simply did not report their data. \n",
    "\n",
    "Other limitations include that the results were to be expected and therefore not significant enough to include such as facial covering's relationship with public events, etc. The data's results are as expected and nothing more and does not stand out. \n",
    "\n",
    "The last limitation was that each countries events and responses vary on a case by case basis, while each country was able to have overlapping success between platforms it does not exclude the fact that each country could have different external forces occurring at the same time which is not represented in the dataset as the dataset is a worldly, outside perspective representation of the data. \n"
   ]
  },
  {
   "cell_type": "markdown",
   "id": "b05acad2-f914-49e7-9540-b398e9cdf4ef",
   "metadata": {},
   "source": [
    "## Conclusion\n",
    "\n",
    "This assignment was extremely fun as it combined my computer science, human data interaction and statistical skills. I never did this level of analysis before nor have I ever created an HTML program to help visualize the data I discovered but it was an overall great learning experience that applied all fields of study. This dataset is valuable and can be applied in multiple ways to help further the advancement of pandemic readiness in the future. This is where human interaction meets data and statistics and I believe from my progress so far on the project I was just able to scratch the surface of this relationship as there are so many more hidden relationships and discrepancies in the data, especially when you compare the data on a country-by-country basis."
   ]
  },
  {
   "cell_type": "code",
   "execution_count": null,
   "id": "0d9847c9-376b-437b-b9f3-d2c3802406c0",
   "metadata": {},
   "outputs": [],
   "source": []
  }
 ],
 "metadata": {
  "kernelspec": {
   "display_name": "Python 3 (ipykernel)",
   "language": "python",
   "name": "python3"
  },
  "language_info": {
   "codemirror_mode": {
    "name": "ipython",
    "version": 3
   },
   "file_extension": ".py",
   "mimetype": "text/x-python",
   "name": "python",
   "nbconvert_exporter": "python",
   "pygments_lexer": "ipython3",
   "version": "3.9.7"
  }
 },
 "nbformat": 4,
 "nbformat_minor": 5
}
